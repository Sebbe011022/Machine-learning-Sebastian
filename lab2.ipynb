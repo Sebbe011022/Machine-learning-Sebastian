{
 "cells": [
  {
   "cell_type": "markdown",
   "id": "844ce8d9",
   "metadata": {},
   "source": [
    "Nödvändiga moduler :\n",
    "pandas: för databehandling i tabellform osv.\n",
    "\n",
    "matplotlib: för att plotta grafer.\n",
    "\n",
    "seaborn: för avancerade grafer.\n",
    "\n",
    "scipy.sparse: hantering av matriser för mindre plats.\n",
    "\n",
    "sklearn.neighbors: för KNN.\n",
    "\n",
    "fuzzywuzzy: för att jämföra texter och kunna hitta filmtitlar, trots felstavning."
   ]
  },
  {
   "cell_type": "code",
   "execution_count": 67,
   "id": "9d5ed4dc",
   "metadata": {},
   "outputs": [],
   "source": [
    "import pandas as pd \n",
    "import matplotlib.pyplot as plt\n",
    "import seaborn as sns  "
   ]
  },
  {
   "cell_type": "code",
   "execution_count": 6,
   "id": "09fb8dc2",
   "metadata": {},
   "outputs": [],
   "source": [
    "from scipy.sparse import csr_matrix\n",
    "from sklearn.neighbors import NearestNeighbors"
   ]
  },
  {
   "cell_type": "markdown",
   "id": "c73b5a6c",
   "metadata": {},
   "source": [
    "Läsa in CSV filer med Pandas"
   ]
  },
  {
   "cell_type": "code",
   "execution_count": 7,
   "id": "0f15a728",
   "metadata": {},
   "outputs": [],
   "source": [
    "df_movies = pd.read_csv(\"movies.csv\")\n",
    "df_ratings = pd.read_csv(\"ratings.csv\")"
   ]
  },
  {
   "cell_type": "code",
   "execution_count": 8,
   "id": "df134cfe",
   "metadata": {},
   "outputs": [
    {
     "data": {
      "text/html": [
       "<div>\n",
       "<style scoped>\n",
       "    .dataframe tbody tr th:only-of-type {\n",
       "        vertical-align: middle;\n",
       "    }\n",
       "\n",
       "    .dataframe tbody tr th {\n",
       "        vertical-align: top;\n",
       "    }\n",
       "\n",
       "    .dataframe thead th {\n",
       "        text-align: right;\n",
       "    }\n",
       "</style>\n",
       "<table border=\"1\" class=\"dataframe\">\n",
       "  <thead>\n",
       "    <tr style=\"text-align: right;\">\n",
       "      <th></th>\n",
       "      <th>movieId</th>\n",
       "      <th>title</th>\n",
       "      <th>genres</th>\n",
       "    </tr>\n",
       "  </thead>\n",
       "  <tbody>\n",
       "    <tr>\n",
       "      <th>0</th>\n",
       "      <td>1</td>\n",
       "      <td>Toy Story (1995)</td>\n",
       "      <td>Adventure|Animation|Children|Comedy|Fantasy</td>\n",
       "    </tr>\n",
       "    <tr>\n",
       "      <th>1</th>\n",
       "      <td>2</td>\n",
       "      <td>Jumanji (1995)</td>\n",
       "      <td>Adventure|Children|Fantasy</td>\n",
       "    </tr>\n",
       "    <tr>\n",
       "      <th>2</th>\n",
       "      <td>3</td>\n",
       "      <td>Grumpier Old Men (1995)</td>\n",
       "      <td>Comedy|Romance</td>\n",
       "    </tr>\n",
       "    <tr>\n",
       "      <th>3</th>\n",
       "      <td>4</td>\n",
       "      <td>Waiting to Exhale (1995)</td>\n",
       "      <td>Comedy|Drama|Romance</td>\n",
       "    </tr>\n",
       "    <tr>\n",
       "      <th>4</th>\n",
       "      <td>5</td>\n",
       "      <td>Father of the Bride Part II (1995)</td>\n",
       "      <td>Comedy</td>\n",
       "    </tr>\n",
       "  </tbody>\n",
       "</table>\n",
       "</div>"
      ],
      "text/plain": [
       "   movieId                               title  \\\n",
       "0        1                    Toy Story (1995)   \n",
       "1        2                      Jumanji (1995)   \n",
       "2        3             Grumpier Old Men (1995)   \n",
       "3        4            Waiting to Exhale (1995)   \n",
       "4        5  Father of the Bride Part II (1995)   \n",
       "\n",
       "                                        genres  \n",
       "0  Adventure|Animation|Children|Comedy|Fantasy  \n",
       "1                   Adventure|Children|Fantasy  \n",
       "2                               Comedy|Romance  \n",
       "3                         Comedy|Drama|Romance  \n",
       "4                                       Comedy  "
      ]
     },
     "execution_count": 8,
     "metadata": {},
     "output_type": "execute_result"
    }
   ],
   "source": [
    "df_movies.head()"
   ]
  },
  {
   "cell_type": "code",
   "execution_count": 9,
   "id": "00936d11",
   "metadata": {},
   "outputs": [
    {
     "data": {
      "text/html": [
       "<div>\n",
       "<style scoped>\n",
       "    .dataframe tbody tr th:only-of-type {\n",
       "        vertical-align: middle;\n",
       "    }\n",
       "\n",
       "    .dataframe tbody tr th {\n",
       "        vertical-align: top;\n",
       "    }\n",
       "\n",
       "    .dataframe thead th {\n",
       "        text-align: right;\n",
       "    }\n",
       "</style>\n",
       "<table border=\"1\" class=\"dataframe\">\n",
       "  <thead>\n",
       "    <tr style=\"text-align: right;\">\n",
       "      <th></th>\n",
       "      <th>userId</th>\n",
       "      <th>movieId</th>\n",
       "      <th>rating</th>\n",
       "      <th>timestamp</th>\n",
       "    </tr>\n",
       "  </thead>\n",
       "  <tbody>\n",
       "    <tr>\n",
       "      <th>0</th>\n",
       "      <td>1</td>\n",
       "      <td>1</td>\n",
       "      <td>4.0</td>\n",
       "      <td>1225734739</td>\n",
       "    </tr>\n",
       "    <tr>\n",
       "      <th>1</th>\n",
       "      <td>1</td>\n",
       "      <td>110</td>\n",
       "      <td>4.0</td>\n",
       "      <td>1225865086</td>\n",
       "    </tr>\n",
       "    <tr>\n",
       "      <th>2</th>\n",
       "      <td>1</td>\n",
       "      <td>158</td>\n",
       "      <td>4.0</td>\n",
       "      <td>1225733503</td>\n",
       "    </tr>\n",
       "    <tr>\n",
       "      <th>3</th>\n",
       "      <td>1</td>\n",
       "      <td>260</td>\n",
       "      <td>4.5</td>\n",
       "      <td>1225735204</td>\n",
       "    </tr>\n",
       "    <tr>\n",
       "      <th>4</th>\n",
       "      <td>1</td>\n",
       "      <td>356</td>\n",
       "      <td>5.0</td>\n",
       "      <td>1225735119</td>\n",
       "    </tr>\n",
       "  </tbody>\n",
       "</table>\n",
       "</div>"
      ],
      "text/plain": [
       "   userId  movieId  rating   timestamp\n",
       "0       1        1     4.0  1225734739\n",
       "1       1      110     4.0  1225865086\n",
       "2       1      158     4.0  1225733503\n",
       "3       1      260     4.5  1225735204\n",
       "4       1      356     5.0  1225735119"
      ]
     },
     "execution_count": 9,
     "metadata": {},
     "output_type": "execute_result"
    }
   ],
   "source": [
    "df_ratings.head()"
   ]
  },
  {
   "cell_type": "markdown",
   "id": "8e16f9cb",
   "metadata": {},
   "source": [
    "Funktionen som plockar ut titel från en lista med filmer"
   ]
  },
  {
   "cell_type": "code",
   "execution_count": 10,
   "id": "000bab4e",
   "metadata": {},
   "outputs": [],
   "source": [
    "def movie_titles(id):\n",
    "    return df_movies.query(\"movieId == @id\")[\"title\"].item()"
   ]
  },
  {
   "cell_type": "code",
   "execution_count": 11,
   "id": "479d26fc",
   "metadata": {},
   "outputs": [
    {
     "data": {
      "text/plain": [
       "'Cutthroat Island (1995)'"
      ]
     },
     "execution_count": 11,
     "metadata": {},
     "output_type": "execute_result"
    }
   ],
   "source": [
    "movie_titles(15)"
   ]
  },
  {
   "cell_type": "markdown",
   "id": "5ec8bed7",
   "metadata": {},
   "source": [
    "En variabel som lagrar de tio filmerna med flest eller högst betyg"
   ]
  },
  {
   "cell_type": "code",
   "execution_count": 12,
   "id": "020c87c6",
   "metadata": {},
   "outputs": [
    {
     "data": {
      "text/plain": [
       "movieId\n",
       "318     122296\n",
       "356     113581\n",
       "296     108756\n",
       "2571    107056\n",
       "593     101802\n",
       "260      97202\n",
       "2959     86207\n",
       "527      84232\n",
       "480      83026\n",
       "1196     80200\n",
       "Name: count, dtype: int64"
      ]
     },
     "execution_count": 12,
     "metadata": {},
     "output_type": "execute_result"
    }
   ],
   "source": [
    "most_rated_10 = df_ratings[\"movieId\"].value_counts()[:10]\n",
    "most_rated_10"
   ]
  },
  {
   "cell_type": "code",
   "execution_count": 68,
   "id": "692d1e38",
   "metadata": {},
   "outputs": [],
   "source": [
    "most_rated_10_titles = []\n",
    "for id_of_movies in most_rated_10.index:\n",
    "    most_rated_10_titles.insert(0, movie_titles(id_of_movies))"
   ]
  },
  {
   "cell_type": "markdown",
   "id": "392057c7",
   "metadata": {},
   "source": [
    "En variabel som innehåller de 10 filmerna med högsta betygen"
   ]
  },
  {
   "cell_type": "code",
   "execution_count": 14,
   "id": "a19c8b49",
   "metadata": {},
   "outputs": [
    {
     "data": {
      "text/plain": [
       "['Star Wars: Episode V - The Empire Strikes Back (1980)',\n",
       " 'Jurassic Park (1993)',\n",
       " \"Schindler's List (1993)\",\n",
       " 'Fight Club (1999)',\n",
       " 'Star Wars: Episode IV - A New Hope (1977)',\n",
       " 'Silence of the Lambs, The (1991)',\n",
       " 'Matrix, The (1999)',\n",
       " 'Pulp Fiction (1994)',\n",
       " 'Forrest Gump (1994)',\n",
       " 'Shawshank Redemption, The (1994)']"
      ]
     },
     "execution_count": 14,
     "metadata": {},
     "output_type": "execute_result"
    }
   ],
   "source": [
    "most_rated_10_titles"
   ]
  },
  {
   "cell_type": "markdown",
   "id": "b9c17a37",
   "metadata": {},
   "source": [
    "Betygsvisualisering för topp 10-filmer med stapeldiagram"
   ]
  },
  {
   "cell_type": "code",
   "execution_count": 15,
   "id": "06fa0a8d",
   "metadata": {},
   "outputs": [
    {
     "data": {
      "image/png": "[encoded data removed]",
      "text/plain": [
       "<Figure size 640x480 with 1 Axes>"
      ]
     },
     "metadata": {},
     "output_type": "display_data"
    }
   ],
   "source": [
    "ax = sns.barplot(x=most_rated_10, y=most_rated_10_titles)\n",
    "ax.set(xlabel=\"amount of ratings\", ylabel=\"Movie titles\", title=\"Top 10 movies with highest ratings\")\n",
    "plt.show()"
   ]
  },
  {
   "cell_type": "markdown",
   "id": "75e48adb",
   "metadata": {},
   "source": [
    "Det genomsnittliga värdet av betygen på topp 10-filmerna"
   ]
  },
  {
   "cell_type": "code",
   "execution_count": 16,
   "id": "ad6d0f38",
   "metadata": {},
   "outputs": [
    {
     "name": "stdout",
     "output_type": "stream",
     "text": [
      "Mean of top 10 highest rated movies: 4.1 of 5\n"
     ]
    }
   ],
   "source": [
    "most_rated_10_mean = df_ratings[df_ratings[\"movieId\"].isin(most_rated_10.index)][\"rating\"].mean()\n",
    "print(f\"Mean of top 10 highest rated movies: {most_rated_10_mean:.1f} of 5\")"
   ]
  },
  {
   "cell_type": "markdown",
   "id": "ce9416c6",
   "metadata": {},
   "source": [
    "En kolumn i movies dataframe döpt till \"year\" som visar årtal"
   ]
  },
  {
   "cell_type": "code",
   "execution_count": 17,
   "id": "d0be3eac",
   "metadata": {},
   "outputs": [
    {
     "data": {
      "text/html": [
       "<div>\n",
       "<style scoped>\n",
       "    .dataframe tbody tr th:only-of-type {\n",
       "        vertical-align: middle;\n",
       "    }\n",
       "\n",
       "    .dataframe tbody tr th {\n",
       "        vertical-align: top;\n",
       "    }\n",
       "\n",
       "    .dataframe thead th {\n",
       "        text-align: right;\n",
       "    }\n",
       "</style>\n",
       "<table border=\"1\" class=\"dataframe\">\n",
       "  <thead>\n",
       "    <tr style=\"text-align: right;\">\n",
       "      <th></th>\n",
       "      <th>movieId</th>\n",
       "      <th>title</th>\n",
       "      <th>genres</th>\n",
       "      <th>year</th>\n",
       "    </tr>\n",
       "  </thead>\n",
       "  <tbody>\n",
       "    <tr>\n",
       "      <th>86532</th>\n",
       "      <td>288967</td>\n",
       "      <td>State of Siege: Temple Attack (2021)</td>\n",
       "      <td>Action|Drama</td>\n",
       "      <td>2021</td>\n",
       "    </tr>\n",
       "    <tr>\n",
       "      <th>86533</th>\n",
       "      <td>288971</td>\n",
       "      <td>Ouija Japan (2021)</td>\n",
       "      <td>Action|Horror</td>\n",
       "      <td>2021</td>\n",
       "    </tr>\n",
       "    <tr>\n",
       "      <th>86534</th>\n",
       "      <td>288975</td>\n",
       "      <td>The Men Who Made the Movies: Howard Hawks (1973)</td>\n",
       "      <td>Documentary</td>\n",
       "      <td>1973</td>\n",
       "    </tr>\n",
       "    <tr>\n",
       "      <th>86535</th>\n",
       "      <td>288977</td>\n",
       "      <td>Skinford: Death Sentence (2023)</td>\n",
       "      <td>Crime|Thriller</td>\n",
       "      <td>2023</td>\n",
       "    </tr>\n",
       "    <tr>\n",
       "      <th>86536</th>\n",
       "      <td>288983</td>\n",
       "      <td>UNZIPPED: An Autopsy of American Inequality (2...</td>\n",
       "      <td>Documentary</td>\n",
       "      <td>2021</td>\n",
       "    </tr>\n",
       "  </tbody>\n",
       "</table>\n",
       "</div>"
      ],
      "text/plain": [
       "       movieId                                              title  \\\n",
       "86532   288967               State of Siege: Temple Attack (2021)   \n",
       "86533   288971                                 Ouija Japan (2021)   \n",
       "86534   288975   The Men Who Made the Movies: Howard Hawks (1973)   \n",
       "86535   288977                    Skinford: Death Sentence (2023)   \n",
       "86536   288983  UNZIPPED: An Autopsy of American Inequality (2...   \n",
       "\n",
       "               genres  year  \n",
       "86532    Action|Drama  2021  \n",
       "86533   Action|Horror  2021  \n",
       "86534     Documentary  1973  \n",
       "86535  Crime|Thriller  2023  \n",
       "86536     Documentary  2021  "
      ]
     },
     "execution_count": 17,
     "metadata": {},
     "output_type": "execute_result"
    }
   ],
   "source": [
    "df_movies[\"year\"] = df_movies[\"title\"].str[-5:-1]\n",
    "\n",
    "df_movies.tail()"
   ]
  },
  {
   "cell_type": "markdown",
   "id": "ead8cd1a",
   "metadata": {},
   "source": [
    "Diagram som visualiserar antal filmer som släppts varje år och identifierar de 10 mest produktiva åren"
   ]
  },
  {
   "cell_type": "code",
   "execution_count": 18,
   "id": "9a25b670",
   "metadata": {},
   "outputs": [
    {
     "data": {
      "image/png": "[encoded data removed]",
      "text/plain": [
       "<Figure size 640x480 with 1 Axes>"
      ]
     },
     "metadata": {},
     "output_type": "display_data"
    }
   ],
   "source": [
    "released_movies_year = df_movies[\"year\"].value_counts()[:10]\n",
    "\n",
    "ax = sns.barplot(y = released_movies_year, x = released_movies_year.index)\n",
    "ax.set(xlabel = \"Year\", ylabel = \"Amount of movies\", title = \"Amount of movies during specific year\")\n",
    "plt.show()"
   ]
  },
  {
   "cell_type": "markdown",
   "id": "60fafa0d",
   "metadata": {},
   "source": [
    "Sparse matrix\n",
    "Visar antal rader inom df_ratings"
   ]
  },
  {
   "cell_type": "code",
   "execution_count": 19,
   "id": "d75d68fa",
   "metadata": {},
   "outputs": [
    {
     "data": {
      "text/plain": [
       "33832162"
      ]
     },
     "execution_count": 19,
     "metadata": {},
     "output_type": "execute_result"
    }
   ],
   "source": [
    "ratings_amount = df_ratings.shape[0]\n",
    "ratings_amount"
   ]
  },
  {
   "cell_type": "markdown",
   "id": "4900f982",
   "metadata": {},
   "source": [
    "Antal filmer som finns i df_ratings"
   ]
  },
  {
   "cell_type": "code",
   "execution_count": 20,
   "id": "445781a4",
   "metadata": {},
   "outputs": [
    {
     "data": {
      "text/plain": [
       "83239"
      ]
     },
     "execution_count": 20,
     "metadata": {},
     "output_type": "execute_result"
    }
   ],
   "source": [
    "movies_amount = df_ratings[\"movieId\"].nunique()\n",
    "movies_amount"
   ]
  },
  {
   "cell_type": "code",
   "execution_count": 21,
   "id": "f3468a9b",
   "metadata": {},
   "outputs": [
    {
     "name": "stdout",
     "output_type": "stream",
     "text": [
      "There is total amount of 33 832 162 ratings for 83 239 movies\n"
     ]
    }
   ],
   "source": [
    "print(f\"There is total amount of {ratings_amount:,} ratings for {movies_amount:,} movies\".replace(\",\", \" \"))"
   ]
  },
  {
   "cell_type": "markdown",
   "id": "4d8e37d6",
   "metadata": {},
   "source": [
    "Antal betyg per film identifieras genom att räkna förekomsten av varje movieID"
   ]
  },
  {
   "cell_type": "code",
   "execution_count": 22,
   "id": "db683e4c",
   "metadata": {},
   "outputs": [
    {
     "data": {
      "text/plain": [
       "movieId\n",
       "318       122296\n",
       "356       113581\n",
       "296       108756\n",
       "2571      107056\n",
       "593       101802\n",
       "           ...  \n",
       "212773         1\n",
       "194901         1\n",
       "194572         1\n",
       "194002         1\n",
       "193301         1\n",
       "Name: count, Length: 83239, dtype: int64"
      ]
     },
     "execution_count": 22,
     "metadata": {},
     "output_type": "execute_result"
    }
   ],
   "source": [
    "count_of_ratings = df_ratings[\"movieId\"].value_counts()\n",
    "count_of_ratings"
   ]
  },
  {
   "cell_type": "markdown",
   "id": "83b06d62",
   "metadata": {},
   "source": [
    "Två grupper av filmer: en med mindre än 5000 betyg, och en DataFrame med 5000 eller fler betyg."
   ]
  },
  {
   "cell_type": "code",
   "execution_count": 23,
   "id": "c544bab0",
   "metadata": {},
   "outputs": [],
   "source": [
    "ratings_less_5000 = count_of_ratings[count_of_ratings < 5000]\n",
    "ratings_higher_5000 = count_of_ratings[count_of_ratings >= 5000]\n",
    "ratings_higher_5000_movies = df_ratings[df_ratings[\"movieId\"].isin(ratings_higher_5000.index)]"
   ]
  },
  {
   "cell_type": "code",
   "execution_count": 24,
   "id": "1ea8545e",
   "metadata": {},
   "outputs": [
    {
     "data": {
      "text/plain": [
       "movieId\n",
       "1678      4995\n",
       "1956      4995\n",
       "1672      4990\n",
       "7371      4989\n",
       "707       4984\n",
       "          ... \n",
       "212773       1\n",
       "194901       1\n",
       "194572       1\n",
       "194002       1\n",
       "193301       1\n",
       "Name: count, Length: 81680, dtype: int64"
      ]
     },
     "execution_count": 24,
     "metadata": {},
     "output_type": "execute_result"
    }
   ],
   "source": [
    "ratings_less_5000"
   ]
  },
  {
   "cell_type": "code",
   "execution_count": 25,
   "id": "3d3e0e3a",
   "metadata": {},
   "outputs": [
    {
     "data": {
      "text/plain": [
       "movieId\n",
       "318      122296\n",
       "356      113581\n",
       "296      108756\n",
       "2571     107056\n",
       "593      101802\n",
       "          ...  \n",
       "3355       5035\n",
       "3089       5034\n",
       "1224       5027\n",
       "63859      5017\n",
       "1359       5007\n",
       "Name: count, Length: 1559, dtype: int64"
      ]
     },
     "execution_count": 25,
     "metadata": {},
     "output_type": "execute_result"
    }
   ],
   "source": [
    "ratings_higher_5000"
   ]
  },
  {
   "cell_type": "code",
   "execution_count": 26,
   "id": "93145d19",
   "metadata": {},
   "outputs": [
    {
     "data": {
      "text/html": [
       "<div>\n",
       "<style scoped>\n",
       "    .dataframe tbody tr th:only-of-type {\n",
       "        vertical-align: middle;\n",
       "    }\n",
       "\n",
       "    .dataframe tbody tr th {\n",
       "        vertical-align: top;\n",
       "    }\n",
       "\n",
       "    .dataframe thead th {\n",
       "        text-align: right;\n",
       "    }\n",
       "</style>\n",
       "<table border=\"1\" class=\"dataframe\">\n",
       "  <thead>\n",
       "    <tr style=\"text-align: right;\">\n",
       "      <th></th>\n",
       "      <th>userId</th>\n",
       "      <th>movieId</th>\n",
       "      <th>rating</th>\n",
       "      <th>timestamp</th>\n",
       "    </tr>\n",
       "  </thead>\n",
       "  <tbody>\n",
       "    <tr>\n",
       "      <th>0</th>\n",
       "      <td>1</td>\n",
       "      <td>1</td>\n",
       "      <td>4.0</td>\n",
       "      <td>1225734739</td>\n",
       "    </tr>\n",
       "    <tr>\n",
       "      <th>1</th>\n",
       "      <td>1</td>\n",
       "      <td>110</td>\n",
       "      <td>4.0</td>\n",
       "      <td>1225865086</td>\n",
       "    </tr>\n",
       "    <tr>\n",
       "      <th>2</th>\n",
       "      <td>1</td>\n",
       "      <td>158</td>\n",
       "      <td>4.0</td>\n",
       "      <td>1225733503</td>\n",
       "    </tr>\n",
       "    <tr>\n",
       "      <th>3</th>\n",
       "      <td>1</td>\n",
       "      <td>260</td>\n",
       "      <td>4.5</td>\n",
       "      <td>1225735204</td>\n",
       "    </tr>\n",
       "    <tr>\n",
       "      <th>4</th>\n",
       "      <td>1</td>\n",
       "      <td>356</td>\n",
       "      <td>5.0</td>\n",
       "      <td>1225735119</td>\n",
       "    </tr>\n",
       "    <tr>\n",
       "      <th>...</th>\n",
       "      <td>...</td>\n",
       "      <td>...</td>\n",
       "      <td>...</td>\n",
       "      <td>...</td>\n",
       "    </tr>\n",
       "    <tr>\n",
       "      <th>33832149</th>\n",
       "      <td>330975</td>\n",
       "      <td>6874</td>\n",
       "      <td>4.0</td>\n",
       "      <td>1091684274</td>\n",
       "    </tr>\n",
       "    <tr>\n",
       "      <th>33832155</th>\n",
       "      <td>330975</td>\n",
       "      <td>7153</td>\n",
       "      <td>4.0</td>\n",
       "      <td>1091582733</td>\n",
       "    </tr>\n",
       "    <tr>\n",
       "      <th>33832159</th>\n",
       "      <td>330975</td>\n",
       "      <td>8622</td>\n",
       "      <td>4.0</td>\n",
       "      <td>1091581777</td>\n",
       "    </tr>\n",
       "    <tr>\n",
       "      <th>33832160</th>\n",
       "      <td>330975</td>\n",
       "      <td>8665</td>\n",
       "      <td>3.0</td>\n",
       "      <td>1091581765</td>\n",
       "    </tr>\n",
       "    <tr>\n",
       "      <th>33832161</th>\n",
       "      <td>330975</td>\n",
       "      <td>8783</td>\n",
       "      <td>2.5</td>\n",
       "      <td>1091581799</td>\n",
       "    </tr>\n",
       "  </tbody>\n",
       "</table>\n",
       "<p>23773543 rows × 4 columns</p>\n",
       "</div>"
      ],
      "text/plain": [
       "          userId  movieId  rating   timestamp\n",
       "0              1        1     4.0  1225734739\n",
       "1              1      110     4.0  1225865086\n",
       "2              1      158     4.0  1225733503\n",
       "3              1      260     4.5  1225735204\n",
       "4              1      356     5.0  1225735119\n",
       "...          ...      ...     ...         ...\n",
       "33832149  330975     6874     4.0  1091684274\n",
       "33832155  330975     7153     4.0  1091582733\n",
       "33832159  330975     8622     4.0  1091581777\n",
       "33832160  330975     8665     3.0  1091581765\n",
       "33832161  330975     8783     2.5  1091581799\n",
       "\n",
       "[23773543 rows x 4 columns]"
      ]
     },
     "execution_count": 26,
     "metadata": {},
     "output_type": "execute_result"
    }
   ],
   "source": [
    "ratings_higher_5000_movies"
   ]
  },
  {
   "cell_type": "code",
   "execution_count": 27,
   "id": "11b219e8",
   "metadata": {},
   "outputs": [
    {
     "data": {
      "text/plain": [
       "np.int64(10058619)"
      ]
     },
     "execution_count": 27,
     "metadata": {},
     "output_type": "execute_result"
    }
   ],
   "source": [
    "ratings_less_5000.sum()"
   ]
  },
  {
   "cell_type": "code",
   "execution_count": 28,
   "id": "9e3c0a30",
   "metadata": {},
   "outputs": [
    {
     "name": "stdout",
     "output_type": "stream",
     "text": [
      "Percentage of removed data: 29.7%\n"
     ]
    }
   ],
   "source": [
    "print(f\"Percentage of removed data: {ratings_less_5000.sum() / ratings_amount * 100:.1f}%\")"
   ]
  },
  {
   "cell_type": "code",
   "execution_count": 29,
   "id": "a0460a84",
   "metadata": {},
   "outputs": [
    {
     "name": "stdout",
     "output_type": "stream",
     "text": [
      "Percentage of remaining data: 70.3%\n"
     ]
    }
   ],
   "source": [
    "print(f\"Percentage of remaining data: {len(ratings_higher_5000_movies) / ratings_amount * 100:.1f}%\")"
   ]
  },
  {
   "cell_type": "code",
   "execution_count": 30,
   "id": "0744c6ee",
   "metadata": {},
   "outputs": [
    {
     "name": "stdout",
     "output_type": "stream",
     "text": [
      "Percentage of movies less than 5000 ratings 98.1%\n"
     ]
    }
   ],
   "source": [
    "print(f\"Percentage of movies less than 5000 ratings {len(ratings_less_5000)/movies_amount * 100:.1f}%\")"
   ]
  },
  {
   "cell_type": "markdown",
   "id": "095089ea",
   "metadata": {},
   "source": [
    "Nu när den återstående datan utgör 70,3 % av all data, representerar de mest populära filmerna bara cirka 1,9 %. Det är därför dags att skapa en sparse matrix.\n",
    "\n",
    "Först behöver datan omformas så att varje rad motsvarar en film och varje kolumn en användare, där cellerna innehåller användarens betyg. Om ett betyg saknas fylls cellen med 0.\n",
    "\n",
    "Att det endast blir cirka 1,9 % av filmerna är enkelt att förstå då många människor har inte tid att leta darför ser dom bara \"mest populära\" filmer"
   ]
  },
  {
   "cell_type": "code",
   "execution_count": 38,
   "id": "01efe619",
   "metadata": {},
   "outputs": [
    {
     "name": "stdout",
     "output_type": "stream",
     "text": [
      "<Compressed Sparse Row sparse matrix of dtype 'int64'\n",
      "\twith 9 stored elements and shape (3, 4)>\n",
      "  Coords\tValues\n",
      "  (0, 0)\t1\n",
      "  (0, 1)\t5\n",
      "  (0, 3)\t2\n",
      "  (1, 0)\t2\n",
      "  (1, 1)\t3\n",
      "  (1, 2)\t4\n",
      "  (2, 0)\t3\n",
      "  (2, 2)\t1\n",
      "  (2, 3)\t5\n"
     ]
    }
   ],
   "source": [
    "import pandas as pd\n",
    "from scipy.sparse import csr_matrix\n",
    "\n",
    "users_request_movies_matrix = csr_matrix(users_request_movies.values)\n",
    "print(users_request_movies_matrix)\n"
   ]
  },
  {
   "cell_type": "markdown",
   "id": "5ffa7759",
   "metadata": {},
   "source": [
    "För att optimera minnesanvändning och beräkningstid i KNN konverteras pivot-tabellen till en sparse-matris."
   ]
  },
  {
   "cell_type": "code",
   "execution_count": 39,
   "id": "4b34db15",
   "metadata": {},
   "outputs": [
    {
     "data": {
      "text/plain": [
       "<Compressed Sparse Row sparse matrix of dtype 'int64'\n",
       "\twith 9 stored elements and shape (3, 4)>"
      ]
     },
     "execution_count": 39,
     "metadata": {},
     "output_type": "execute_result"
    }
   ],
   "source": [
    "users_request_movies_matrix = csr_matrix(users_request_movies.values)\n",
    "users_request_movies_matrix"
   ]
  },
  {
   "cell_type": "markdown",
   "id": "391b305e",
   "metadata": {},
   "source": [
    "Rekommendationssystem behövs byggas med KNN\n",
    "En filtrerad lista måste utföras med de filmer som är kvar efter att vi har sorterat bort de mindre populära filmerna"
   ]
  },
  {
   "cell_type": "code",
   "execution_count": 40,
   "id": "a6812786",
   "metadata": {},
   "outputs": [
    {
     "data": {
      "text/html": [
       "<div>\n",
       "<style scoped>\n",
       "    .dataframe tbody tr th:only-of-type {\n",
       "        vertical-align: middle;\n",
       "    }\n",
       "\n",
       "    .dataframe tbody tr th {\n",
       "        vertical-align: top;\n",
       "    }\n",
       "\n",
       "    .dataframe thead th {\n",
       "        text-align: right;\n",
       "    }\n",
       "</style>\n",
       "<table border=\"1\" class=\"dataframe\">\n",
       "  <thead>\n",
       "    <tr style=\"text-align: right;\">\n",
       "      <th></th>\n",
       "      <th>index</th>\n",
       "      <th>movieId</th>\n",
       "      <th>title</th>\n",
       "      <th>genres</th>\n",
       "      <th>year</th>\n",
       "    </tr>\n",
       "  </thead>\n",
       "  <tbody>\n",
       "    <tr>\n",
       "      <th>0</th>\n",
       "      <td>0</td>\n",
       "      <td>1</td>\n",
       "      <td>Toy Story (1995)</td>\n",
       "      <td>Adventure|Animation|Children|Comedy|Fantasy</td>\n",
       "      <td>1995</td>\n",
       "    </tr>\n",
       "    <tr>\n",
       "      <th>1</th>\n",
       "      <td>1</td>\n",
       "      <td>2</td>\n",
       "      <td>Jumanji (1995)</td>\n",
       "      <td>Adventure|Children|Fantasy</td>\n",
       "      <td>1995</td>\n",
       "    </tr>\n",
       "    <tr>\n",
       "      <th>2</th>\n",
       "      <td>2</td>\n",
       "      <td>3</td>\n",
       "      <td>Grumpier Old Men (1995)</td>\n",
       "      <td>Comedy|Romance</td>\n",
       "      <td>1995</td>\n",
       "    </tr>\n",
       "    <tr>\n",
       "      <th>3</th>\n",
       "      <td>4</td>\n",
       "      <td>5</td>\n",
       "      <td>Father of the Bride Part II (1995)</td>\n",
       "      <td>Comedy</td>\n",
       "      <td>1995</td>\n",
       "    </tr>\n",
       "    <tr>\n",
       "      <th>4</th>\n",
       "      <td>5</td>\n",
       "      <td>6</td>\n",
       "      <td>Heat (1995)</td>\n",
       "      <td>Action|Crime|Thriller</td>\n",
       "      <td>1995</td>\n",
       "    </tr>\n",
       "    <tr>\n",
       "      <th>...</th>\n",
       "      <td>...</td>\n",
       "      <td>...</td>\n",
       "      <td>...</td>\n",
       "      <td>...</td>\n",
       "      <td>...</td>\n",
       "    </tr>\n",
       "    <tr>\n",
       "      <th>1554</th>\n",
       "      <td>62208</td>\n",
       "      <td>204698</td>\n",
       "      <td>Joker (2019)</td>\n",
       "      <td>Crime|Drama|Thriller</td>\n",
       "      <td>2019</td>\n",
       "    </tr>\n",
       "    <tr>\n",
       "      <th>1555</th>\n",
       "      <td>62414</td>\n",
       "      <td>205156</td>\n",
       "      <td>Jojo Rabbit (2019)</td>\n",
       "      <td>Comedy|War</td>\n",
       "      <td>2019</td>\n",
       "    </tr>\n",
       "    <tr>\n",
       "      <th>1556</th>\n",
       "      <td>63316</td>\n",
       "      <td>207313</td>\n",
       "      <td>Knives Out (2019)</td>\n",
       "      <td>Comedy|Crime|Drama|Mystery|Thriller</td>\n",
       "      <td>2019</td>\n",
       "    </tr>\n",
       "    <tr>\n",
       "      <th>1557</th>\n",
       "      <td>63916</td>\n",
       "      <td>208703</td>\n",
       "      <td>1917 (2019)</td>\n",
       "      <td>Drama|War</td>\n",
       "      <td>2019</td>\n",
       "    </tr>\n",
       "    <tr>\n",
       "      <th>1558</th>\n",
       "      <td>76901</td>\n",
       "      <td>254726</td>\n",
       "      <td>Dune (2021)</td>\n",
       "      <td>Action|Adventure|Drama|Sci-Fi</td>\n",
       "      <td>2021</td>\n",
       "    </tr>\n",
       "  </tbody>\n",
       "</table>\n",
       "<p>1559 rows × 5 columns</p>\n",
       "</div>"
      ],
      "text/plain": [
       "      index  movieId                               title  \\\n",
       "0         0        1                    Toy Story (1995)   \n",
       "1         1        2                      Jumanji (1995)   \n",
       "2         2        3             Grumpier Old Men (1995)   \n",
       "3         4        5  Father of the Bride Part II (1995)   \n",
       "4         5        6                         Heat (1995)   \n",
       "...     ...      ...                                 ...   \n",
       "1554  62208   204698                        Joker (2019)   \n",
       "1555  62414   205156                  Jojo Rabbit (2019)   \n",
       "1556  63316   207313                   Knives Out (2019)   \n",
       "1557  63916   208703                         1917 (2019)   \n",
       "1558  76901   254726                         Dune (2021)   \n",
       "\n",
       "                                           genres  year  \n",
       "0     Adventure|Animation|Children|Comedy|Fantasy  1995  \n",
       "1                      Adventure|Children|Fantasy  1995  \n",
       "2                                  Comedy|Romance  1995  \n",
       "3                                          Comedy  1995  \n",
       "4                           Action|Crime|Thriller  1995  \n",
       "...                                           ...   ...  \n",
       "1554                         Crime|Drama|Thriller  2019  \n",
       "1555                                   Comedy|War  2019  \n",
       "1556          Comedy|Crime|Drama|Mystery|Thriller  2019  \n",
       "1557                                    Drama|War  2019  \n",
       "1558                Action|Adventure|Drama|Sci-Fi  2021  \n",
       "\n",
       "[1559 rows x 5 columns]"
      ]
     },
     "execution_count": 40,
     "metadata": {},
     "output_type": "execute_result"
    }
   ],
   "source": [
    "recommended_movies = df_movies[df_movies[\"movieId\"].isin(ratings_higher_5000_movies[\"movieId\"].unique())].reset_index()\n",
    "recommended_movies"
   ]
  },
  {
   "cell_type": "markdown",
   "id": "eabb916f",
   "metadata": {},
   "source": [
    "KNN-modellen tränas på vår sparse-matris. Antalet närmaste grannar (n_neighbors) sätts till 20 för att kunna identifiera de 20 mest liknande filmerna.\n",
    "\n",
    "Som likhetsmått används cosine, vilket gör det möjligt att upptäcka hur lika användarnas betygsmönster är mellan filmerna.\n",
    "\n",
    "För algoritm används brute-force, vilket innebär att varje film jämförs med alla andra filmer för att säkerställa den bästa möjliga matchningen mellan filmerna."
   ]
  },
  {
   "cell_type": "code",
   "execution_count": 60,
   "id": "9a4ba78e",
   "metadata": {},
   "outputs": [
    {
     "data": {
      "text/html": [
       "<style>#sk-container-id-4 {\n",
       "  /* Definition of color scheme common for light and dark mode */\n",
       "  --sklearn-color-text: #000;\n",
       "  --sklearn-color-text-muted: #666;\n",
       "  --sklearn-color-line: gray;\n",
       "  /* Definition of color scheme for unfitted estimators */\n",
       "  --sklearn-color-unfitted-level-0: #fff5e6;\n",
       "  --sklearn-color-unfitted-level-1: #f6e4d2;\n",
       "  --sklearn-color-unfitted-level-2: #ffe0b3;\n",
       "  --sklearn-color-unfitted-level-3: chocolate;\n",
       "  /* Definition of color scheme for fitted estimators */\n",
       "  --sklearn-color-fitted-level-0: #f0f8ff;\n",
       "  --sklearn-color-fitted-level-1: #d4ebff;\n",
       "  --sklearn-color-fitted-level-2: #b3dbfd;\n",
       "  --sklearn-color-fitted-level-3: cornflowerblue;\n",
       "\n",
       "  /* Specific color for light theme */\n",
       "  --sklearn-color-text-on-default-background: var(--sg-text-color, var(--theme-code-foreground, var(--jp-content-font-color1, black)));\n",
       "  --sklearn-color-background: var(--sg-background-color, var(--theme-background, var(--jp-layout-color0, white)));\n",
       "  --sklearn-color-border-box: var(--sg-text-color, var(--theme-code-foreground, var(--jp-content-font-color1, black)));\n",
       "  --sklearn-color-icon: #696969;\n",
       "\n",
       "  @media (prefers-color-scheme: dark) {\n",
       "    /* Redefinition of color scheme for dark theme */\n",
       "    --sklearn-color-text-on-default-background: var(--sg-text-color, var(--theme-code-foreground, var(--jp-content-font-color1, white)));\n",
       "    --sklearn-color-background: var(--sg-background-color, var(--theme-background, var(--jp-layout-color0, #111)));\n",
       "    --sklearn-color-border-box: var(--sg-text-color, var(--theme-code-foreground, var(--jp-content-font-color1, white)));\n",
       "    --sklearn-color-icon: #878787;\n",
       "  }\n",
       "}\n",
       "\n",
       "#sk-container-id-4 {\n",
       "  color: var(--sklearn-color-text);\n",
       "}\n",
       "\n",
       "#sk-container-id-4 pre {\n",
       "  padding: 0;\n",
       "}\n",
       "\n",
       "#sk-container-id-4 input.sk-hidden--visually {\n",
       "  border: 0;\n",
       "  clip: rect(1px 1px 1px 1px);\n",
       "  clip: rect(1px, 1px, 1px, 1px);\n",
       "  height: 1px;\n",
       "  margin: -1px;\n",
       "  overflow: hidden;\n",
       "  padding: 0;\n",
       "  position: absolute;\n",
       "  width: 1px;\n",
       "}\n",
       "\n",
       "#sk-container-id-4 div.sk-dashed-wrapped {\n",
       "  border: 1px dashed var(--sklearn-color-line);\n",
       "  margin: 0 0.4em 0.5em 0.4em;\n",
       "  box-sizing: border-box;\n",
       "  padding-bottom: 0.4em;\n",
       "  background-color: var(--sklearn-color-background);\n",
       "}\n",
       "\n",
       "#sk-container-id-4 div.sk-container {\n",
       "  /* jupyter's `normalize.less` sets `[hidden] { display: none; }`\n",
       "     but bootstrap.min.css set `[hidden] { display: none !important; }`\n",
       "     so we also need the `!important` here to be able to override the\n",
       "     default hidden behavior on the sphinx rendered scikit-learn.org.\n",
       "     See: https://github.com/scikit-learn/scikit-learn/issues/21755 */\n",
       "  display: inline-block !important;\n",
       "  position: relative;\n",
       "}\n",
       "\n",
       "#sk-container-id-4 div.sk-text-repr-fallback {\n",
       "  display: none;\n",
       "}\n",
       "\n",
       "div.sk-parallel-item,\n",
       "div.sk-serial,\n",
       "div.sk-item {\n",
       "  /* draw centered vertical line to link estimators */\n",
       "  background-image: linear-gradient(var(--sklearn-color-text-on-default-background), var(--sklearn-color-text-on-default-background));\n",
       "  background-size: 2px 100%;\n",
       "  background-repeat: no-repeat;\n",
       "  background-position: center center;\n",
       "}\n",
       "\n",
       "/* Parallel-specific style estimator block */\n",
       "\n",
       "#sk-container-id-4 div.sk-parallel-item::after {\n",
       "  content: \"\";\n",
       "  width: 100%;\n",
       "  border-bottom: 2px solid var(--sklearn-color-text-on-default-background);\n",
       "  flex-grow: 1;\n",
       "}\n",
       "\n",
       "#sk-container-id-4 div.sk-parallel {\n",
       "  display: flex;\n",
       "  align-items: stretch;\n",
       "  justify-content: center;\n",
       "  background-color: var(--sklearn-color-background);\n",
       "  position: relative;\n",
       "}\n",
       "\n",
       "#sk-container-id-4 div.sk-parallel-item {\n",
       "  display: flex;\n",
       "  flex-direction: column;\n",
       "}\n",
       "\n",
       "#sk-container-id-4 div.sk-parallel-item:first-child::after {\n",
       "  align-self: flex-end;\n",
       "  width: 50%;\n",
       "}\n",
       "\n",
       "#sk-container-id-4 div.sk-parallel-item:last-child::after {\n",
       "  align-self: flex-start;\n",
       "  width: 50%;\n",
       "}\n",
       "\n",
       "#sk-container-id-4 div.sk-parallel-item:only-child::after {\n",
       "  width: 0;\n",
       "}\n",
       "\n",
       "/* Serial-specific style estimator block */\n",
       "\n",
       "#sk-container-id-4 div.sk-serial {\n",
       "  display: flex;\n",
       "  flex-direction: column;\n",
       "  align-items: center;\n",
       "  background-color: var(--sklearn-color-background);\n",
       "  padding-right: 1em;\n",
       "  padding-left: 1em;\n",
       "}\n",
       "\n",
       "\n",
       "/* Toggleable style: style used for estimator/Pipeline/ColumnTransformer box that is\n",
       "clickable and can be expanded/collapsed.\n",
       "- Pipeline and ColumnTransformer use this feature and define the default style\n",
       "- Estimators will overwrite some part of the style using the `sk-estimator` class\n",
       "*/\n",
       "\n",
       "/* Pipeline and ColumnTransformer style (default) */\n",
       "\n",
       "#sk-container-id-4 div.sk-toggleable {\n",
       "  /* Default theme specific background. It is overwritten whether we have a\n",
       "  specific estimator or a Pipeline/ColumnTransformer */\n",
       "  background-color: var(--sklearn-color-background);\n",
       "}\n",
       "\n",
       "/* Toggleable label */\n",
       "#sk-container-id-4 label.sk-toggleable__label {\n",
       "  cursor: pointer;\n",
       "  display: flex;\n",
       "  width: 100%;\n",
       "  margin-bottom: 0;\n",
       "  padding: 0.5em;\n",
       "  box-sizing: border-box;\n",
       "  text-align: center;\n",
       "  align-items: start;\n",
       "  justify-content: space-between;\n",
       "  gap: 0.5em;\n",
       "}\n",
       "\n",
       "#sk-container-id-4 label.sk-toggleable__label .caption {\n",
       "  font-size: 0.6rem;\n",
       "  font-weight: lighter;\n",
       "  color: var(--sklearn-color-text-muted);\n",
       "}\n",
       "\n",
       "#sk-container-id-4 label.sk-toggleable__label-arrow:before {\n",
       "  /* Arrow on the left of the label */\n",
       "  content: \"▸\";\n",
       "  float: left;\n",
       "  margin-right: 0.25em;\n",
       "  color: var(--sklearn-color-icon);\n",
       "}\n",
       "\n",
       "#sk-container-id-4 label.sk-toggleable__label-arrow:hover:before {\n",
       "  color: var(--sklearn-color-text);\n",
       "}\n",
       "\n",
       "/* Toggleable content - dropdown */\n",
       "\n",
       "#sk-container-id-4 div.sk-toggleable__content {\n",
       "  display: none;\n",
       "  text-align: left;\n",
       "  /* unfitted */\n",
       "  background-color: var(--sklearn-color-unfitted-level-0);\n",
       "}\n",
       "\n",
       "#sk-container-id-4 div.sk-toggleable__content.fitted {\n",
       "  /* fitted */\n",
       "  background-color: var(--sklearn-color-fitted-level-0);\n",
       "}\n",
       "\n",
       "#sk-container-id-4 div.sk-toggleable__content pre {\n",
       "  margin: 0.2em;\n",
       "  border-radius: 0.25em;\n",
       "  color: var(--sklearn-color-text);\n",
       "  /* unfitted */\n",
       "  background-color: var(--sklearn-color-unfitted-level-0);\n",
       "}\n",
       "\n",
       "#sk-container-id-4 div.sk-toggleable__content.fitted pre {\n",
       "  /* unfitted */\n",
       "  background-color: var(--sklearn-color-fitted-level-0);\n",
       "}\n",
       "\n",
       "#sk-container-id-4 input.sk-toggleable__control:checked~div.sk-toggleable__content {\n",
       "  /* Expand drop-down */\n",
       "  display: block;\n",
       "  width: 100%;\n",
       "  overflow: visible;\n",
       "}\n",
       "\n",
       "#sk-container-id-4 input.sk-toggleable__control:checked~label.sk-toggleable__label-arrow:before {\n",
       "  content: \"▾\";\n",
       "}\n",
       "\n",
       "/* Pipeline/ColumnTransformer-specific style */\n",
       "\n",
       "#sk-container-id-4 div.sk-label input.sk-toggleable__control:checked~label.sk-toggleable__label {\n",
       "  color: var(--sklearn-color-text);\n",
       "  background-color: var(--sklearn-color-unfitted-level-2);\n",
       "}\n",
       "\n",
       "#sk-container-id-4 div.sk-label.fitted input.sk-toggleable__control:checked~label.sk-toggleable__label {\n",
       "  background-color: var(--sklearn-color-fitted-level-2);\n",
       "}\n",
       "\n",
       "/* Estimator-specific style */\n",
       "\n",
       "/* Colorize estimator box */\n",
       "#sk-container-id-4 div.sk-estimator input.sk-toggleable__control:checked~label.sk-toggleable__label {\n",
       "  /* unfitted */\n",
       "  background-color: var(--sklearn-color-unfitted-level-2);\n",
       "}\n",
       "\n",
       "#sk-container-id-4 div.sk-estimator.fitted input.sk-toggleable__control:checked~label.sk-toggleable__label {\n",
       "  /* fitted */\n",
       "  background-color: var(--sklearn-color-fitted-level-2);\n",
       "}\n",
       "\n",
       "#sk-container-id-4 div.sk-label label.sk-toggleable__label,\n",
       "#sk-container-id-4 div.sk-label label {\n",
       "  /* The background is the default theme color */\n",
       "  color: var(--sklearn-color-text-on-default-background);\n",
       "}\n",
       "\n",
       "/* On hover, darken the color of the background */\n",
       "#sk-container-id-4 div.sk-label:hover label.sk-toggleable__label {\n",
       "  color: var(--sklearn-color-text);\n",
       "  background-color: var(--sklearn-color-unfitted-level-2);\n",
       "}\n",
       "\n",
       "/* Label box, darken color on hover, fitted */\n",
       "#sk-container-id-4 div.sk-label.fitted:hover label.sk-toggleable__label.fitted {\n",
       "  color: var(--sklearn-color-text);\n",
       "  background-color: var(--sklearn-color-fitted-level-2);\n",
       "}\n",
       "\n",
       "/* Estimator label */\n",
       "\n",
       "#sk-container-id-4 div.sk-label label {\n",
       "  font-family: monospace;\n",
       "  font-weight: bold;\n",
       "  display: inline-block;\n",
       "  line-height: 1.2em;\n",
       "}\n",
       "\n",
       "#sk-container-id-4 div.sk-label-container {\n",
       "  text-align: center;\n",
       "}\n",
       "\n",
       "/* Estimator-specific */\n",
       "#sk-container-id-4 div.sk-estimator {\n",
       "  font-family: monospace;\n",
       "  border: 1px dotted var(--sklearn-color-border-box);\n",
       "  border-radius: 0.25em;\n",
       "  box-sizing: border-box;\n",
       "  margin-bottom: 0.5em;\n",
       "  /* unfitted */\n",
       "  background-color: var(--sklearn-color-unfitted-level-0);\n",
       "}\n",
       "\n",
       "#sk-container-id-4 div.sk-estimator.fitted {\n",
       "  /* fitted */\n",
       "  background-color: var(--sklearn-color-fitted-level-0);\n",
       "}\n",
       "\n",
       "/* on hover */\n",
       "#sk-container-id-4 div.sk-estimator:hover {\n",
       "  /* unfitted */\n",
       "  background-color: var(--sklearn-color-unfitted-level-2);\n",
       "}\n",
       "\n",
       "#sk-container-id-4 div.sk-estimator.fitted:hover {\n",
       "  /* fitted */\n",
       "  background-color: var(--sklearn-color-fitted-level-2);\n",
       "}\n",
       "\n",
       "/* Specification for estimator info (e.g. \"i\" and \"?\") */\n",
       "\n",
       "/* Common style for \"i\" and \"?\" */\n",
       "\n",
       ".sk-estimator-doc-link,\n",
       "a:link.sk-estimator-doc-link,\n",
       "a:visited.sk-estimator-doc-link {\n",
       "  float: right;\n",
       "  font-size: smaller;\n",
       "  line-height: 1em;\n",
       "  font-family: monospace;\n",
       "  background-color: var(--sklearn-color-background);\n",
       "  border-radius: 1em;\n",
       "  height: 1em;\n",
       "  width: 1em;\n",
       "  text-decoration: none !important;\n",
       "  margin-left: 0.5em;\n",
       "  text-align: center;\n",
       "  /* unfitted */\n",
       "  border: var(--sklearn-color-unfitted-level-1) 1pt solid;\n",
       "  color: var(--sklearn-color-unfitted-level-1);\n",
       "}\n",
       "\n",
       ".sk-estimator-doc-link.fitted,\n",
       "a:link.sk-estimator-doc-link.fitted,\n",
       "a:visited.sk-estimator-doc-link.fitted {\n",
       "  /* fitted */\n",
       "  border: var(--sklearn-color-fitted-level-1) 1pt solid;\n",
       "  color: var(--sklearn-color-fitted-level-1);\n",
       "}\n",
       "\n",
       "/* On hover */\n",
       "div.sk-estimator:hover .sk-estimator-doc-link:hover,\n",
       ".sk-estimator-doc-link:hover,\n",
       "div.sk-label-container:hover .sk-estimator-doc-link:hover,\n",
       ".sk-estimator-doc-link:hover {\n",
       "  /* unfitted */\n",
       "  background-color: var(--sklearn-color-unfitted-level-3);\n",
       "  color: var(--sklearn-color-background);\n",
       "  text-decoration: none;\n",
       "}\n",
       "\n",
       "div.sk-estimator.fitted:hover .sk-estimator-doc-link.fitted:hover,\n",
       ".sk-estimator-doc-link.fitted:hover,\n",
       "div.sk-label-container:hover .sk-estimator-doc-link.fitted:hover,\n",
       ".sk-estimator-doc-link.fitted:hover {\n",
       "  /* fitted */\n",
       "  background-color: var(--sklearn-color-fitted-level-3);\n",
       "  color: var(--sklearn-color-background);\n",
       "  text-decoration: none;\n",
       "}\n",
       "\n",
       "/* Span, style for the box shown on hovering the info icon */\n",
       ".sk-estimator-doc-link span {\n",
       "  display: none;\n",
       "  z-index: 9999;\n",
       "  position: relative;\n",
       "  font-weight: normal;\n",
       "  right: .2ex;\n",
       "  padding: .5ex;\n",
       "  margin: .5ex;\n",
       "  width: min-content;\n",
       "  min-width: 20ex;\n",
       "  max-width: 50ex;\n",
       "  color: var(--sklearn-color-text);\n",
       "  box-shadow: 2pt 2pt 4pt #999;\n",
       "  /* unfitted */\n",
       "  background: var(--sklearn-color-unfitted-level-0);\n",
       "  border: .5pt solid var(--sklearn-color-unfitted-level-3);\n",
       "}\n",
       "\n",
       ".sk-estimator-doc-link.fitted span {\n",
       "  /* fitted */\n",
       "  background: var(--sklearn-color-fitted-level-0);\n",
       "  border: var(--sklearn-color-fitted-level-3);\n",
       "}\n",
       "\n",
       ".sk-estimator-doc-link:hover span {\n",
       "  display: block;\n",
       "}\n",
       "\n",
       "/* \"?\"-specific style due to the `<a>` HTML tag */\n",
       "\n",
       "#sk-container-id-4 a.estimator_doc_link {\n",
       "  float: right;\n",
       "  font-size: 1rem;\n",
       "  line-height: 1em;\n",
       "  font-family: monospace;\n",
       "  background-color: var(--sklearn-color-background);\n",
       "  border-radius: 1rem;\n",
       "  height: 1rem;\n",
       "  width: 1rem;\n",
       "  text-decoration: none;\n",
       "  /* unfitted */\n",
       "  color: var(--sklearn-color-unfitted-level-1);\n",
       "  border: var(--sklearn-color-unfitted-level-1) 1pt solid;\n",
       "}\n",
       "\n",
       "#sk-container-id-4 a.estimator_doc_link.fitted {\n",
       "  /* fitted */\n",
       "  border: var(--sklearn-color-fitted-level-1) 1pt solid;\n",
       "  color: var(--sklearn-color-fitted-level-1);\n",
       "}\n",
       "\n",
       "/* On hover */\n",
       "#sk-container-id-4 a.estimator_doc_link:hover {\n",
       "  /* unfitted */\n",
       "  background-color: var(--sklearn-color-unfitted-level-3);\n",
       "  color: var(--sklearn-color-background);\n",
       "  text-decoration: none;\n",
       "}\n",
       "\n",
       "#sk-container-id-4 a.estimator_doc_link.fitted:hover {\n",
       "  /* fitted */\n",
       "  background-color: var(--sklearn-color-fitted-level-3);\n",
       "}\n",
       "\n",
       ".estimator-table summary {\n",
       "    padding: .5rem;\n",
       "    font-family: monospace;\n",
       "    cursor: pointer;\n",
       "}\n",
       "\n",
       ".estimator-table details[open] {\n",
       "    padding-left: 0.1rem;\n",
       "    padding-right: 0.1rem;\n",
       "    padding-bottom: 0.3rem;\n",
       "}\n",
       "\n",
       ".estimator-table .parameters-table {\n",
       "    margin-left: auto !important;\n",
       "    margin-right: auto !important;\n",
       "}\n",
       "\n",
       ".estimator-table .parameters-table tr:nth-child(odd) {\n",
       "    background-color: #fff;\n",
       "}\n",
       "\n",
       ".estimator-table .parameters-table tr:nth-child(even) {\n",
       "    background-color: #f6f6f6;\n",
       "}\n",
       "\n",
       ".estimator-table .parameters-table tr:hover {\n",
       "    background-color: #e0e0e0;\n",
       "}\n",
       "\n",
       ".estimator-table table td {\n",
       "    border: 1px solid rgba(106, 105, 104, 0.232);\n",
       "}\n",
       "\n",
       ".user-set td {\n",
       "    color:rgb(255, 94, 0);\n",
       "    text-align: left;\n",
       "}\n",
       "\n",
       ".user-set td.value pre {\n",
       "    color:rgb(255, 94, 0) !important;\n",
       "    background-color: transparent !important;\n",
       "}\n",
       "\n",
       ".default td {\n",
       "    color: black;\n",
       "    text-align: left;\n",
       "}\n",
       "\n",
       ".user-set td i,\n",
       ".default td i {\n",
       "    color: black;\n",
       "}\n",
       "\n",
       ".copy-paste-icon {\n",
       "    background-image: url(data:image/svg+xml;base64,PHN2ZyB4bWxucz0iaHR0cDovL3d3dy53My5vcmcvMjAwMC9zdmciIHZpZXdCb3g9IjAgMCA0NDggNTEyIj48IS0tIUZvbnQgQXdlc29tZSBGcmVlIDYuNy4yIGJ5IEBmb250YXdlc29tZSAtIGh0dHBzOi8vZm9udGF3ZXNvbWUuY29tIExpY2Vuc2UgLSBodHRwczovL2ZvbnRhd2Vzb21lLmNvbS9saWNlbnNlL2ZyZWUgQ29weXJpZ2h0IDIwMjUgRm9udGljb25zLCBJbmMuLS0+PHBhdGggZD0iTTIwOCAwTDMzMi4xIDBjMTIuNyAwIDI0LjkgNS4xIDMzLjkgMTQuMWw2Ny45IDY3LjljOSA5IDE0LjEgMjEuMiAxNC4xIDMzLjlMNDQ4IDMzNmMwIDI2LjUtMjEuNSA0OC00OCA0OGwtMTkyIDBjLTI2LjUgMC00OC0yMS41LTQ4LTQ4bDAtMjg4YzAtMjYuNSAyMS41LTQ4IDQ4LTQ4ek00OCAxMjhsODAgMCAwIDY0LTY0IDAgMCAyNTYgMTkyIDAgMC0zMiA2NCAwIDAgNDhjMCAyNi41LTIxLjUgNDgtNDggNDhMNDggNTEyYy0yNi41IDAtNDgtMjEuNS00OC00OEwwIDE3NmMwLTI2LjUgMjEuNS00OCA0OC00OHoiLz48L3N2Zz4=);\n",
       "    background-repeat: no-repeat;\n",
       "    background-size: 14px 14px;\n",
       "    background-position: 0;\n",
       "    display: inline-block;\n",
       "    width: 14px;\n",
       "    height: 14px;\n",
       "    cursor: pointer;\n",
       "}\n",
       "</style><body><div id=\"sk-container-id-4\" class=\"sk-top-container\"><div class=\"sk-text-repr-fallback\"><pre>NearestNeighbors(algorithm=&#x27;brute&#x27;, metric=&#x27;cosine&#x27;, n_neighbors=20)</pre><b>In a Jupyter environment, please rerun this cell to show the HTML representation or trust the notebook. <br />On GitHub, the HTML representation is unable to render, please try loading this page with nbviewer.org.</b></div><div class=\"sk-container\" hidden><div class=\"sk-item\"><div class=\"sk-estimator fitted sk-toggleable\"><input class=\"sk-toggleable__control sk-hidden--visually\" id=\"sk-estimator-id-4\" type=\"checkbox\" checked><label for=\"sk-estimator-id-4\" class=\"sk-toggleable__label fitted sk-toggleable__label-arrow\"><div><div>NearestNeighbors</div></div><div><a class=\"sk-estimator-doc-link fitted\" rel=\"noreferrer\" target=\"_blank\" href=\"https://scikit-learn.org/1.7/modules/generated/sklearn.neighbors.NearestNeighbors.html\">?<span>Documentation for NearestNeighbors</span></a><span class=\"sk-estimator-doc-link fitted\">i<span>Fitted</span></span></div></label><div class=\"sk-toggleable__content fitted\" data-param-prefix=\"\">\n",
       "        <div class=\"estimator-table\">\n",
       "            <details>\n",
       "                <summary>Parameters</summary>\n",
       "                <table class=\"parameters-table\">\n",
       "                  <tbody>\n",
       "                    \n",
       "        <tr class=\"user-set\">\n",
       "            <td><i class=\"copy-paste-icon\"\n",
       "                 onclick=\"copyToClipboard('n_neighbors',\n",
       "                          this.parentElement.nextElementSibling)\"\n",
       "            ></i></td>\n",
       "            <td class=\"param\">n_neighbors&nbsp;</td>\n",
       "            <td class=\"value\">20</td>\n",
       "        </tr>\n",
       "    \n",
       "\n",
       "        <tr class=\"default\">\n",
       "            <td><i class=\"copy-paste-icon\"\n",
       "                 onclick=\"copyToClipboard('radius',\n",
       "                          this.parentElement.nextElementSibling)\"\n",
       "            ></i></td>\n",
       "            <td class=\"param\">radius&nbsp;</td>\n",
       "            <td class=\"value\">1.0</td>\n",
       "        </tr>\n",
       "    \n",
       "\n",
       "        <tr class=\"user-set\">\n",
       "            <td><i class=\"copy-paste-icon\"\n",
       "                 onclick=\"copyToClipboard('algorithm',\n",
       "                          this.parentElement.nextElementSibling)\"\n",
       "            ></i></td>\n",
       "            <td class=\"param\">algorithm&nbsp;</td>\n",
       "            <td class=\"value\">&#x27;brute&#x27;</td>\n",
       "        </tr>\n",
       "    \n",
       "\n",
       "        <tr class=\"default\">\n",
       "            <td><i class=\"copy-paste-icon\"\n",
       "                 onclick=\"copyToClipboard('leaf_size',\n",
       "                          this.parentElement.nextElementSibling)\"\n",
       "            ></i></td>\n",
       "            <td class=\"param\">leaf_size&nbsp;</td>\n",
       "            <td class=\"value\">30</td>\n",
       "        </tr>\n",
       "    \n",
       "\n",
       "        <tr class=\"user-set\">\n",
       "            <td><i class=\"copy-paste-icon\"\n",
       "                 onclick=\"copyToClipboard('metric',\n",
       "                          this.parentElement.nextElementSibling)\"\n",
       "            ></i></td>\n",
       "            <td class=\"param\">metric&nbsp;</td>\n",
       "            <td class=\"value\">&#x27;cosine&#x27;</td>\n",
       "        </tr>\n",
       "    \n",
       "\n",
       "        <tr class=\"default\">\n",
       "            <td><i class=\"copy-paste-icon\"\n",
       "                 onclick=\"copyToClipboard('p',\n",
       "                          this.parentElement.nextElementSibling)\"\n",
       "            ></i></td>\n",
       "            <td class=\"param\">p&nbsp;</td>\n",
       "            <td class=\"value\">2</td>\n",
       "        </tr>\n",
       "    \n",
       "\n",
       "        <tr class=\"default\">\n",
       "            <td><i class=\"copy-paste-icon\"\n",
       "                 onclick=\"copyToClipboard('metric_params',\n",
       "                          this.parentElement.nextElementSibling)\"\n",
       "            ></i></td>\n",
       "            <td class=\"param\">metric_params&nbsp;</td>\n",
       "            <td class=\"value\">None</td>\n",
       "        </tr>\n",
       "    \n",
       "\n",
       "        <tr class=\"default\">\n",
       "            <td><i class=\"copy-paste-icon\"\n",
       "                 onclick=\"copyToClipboard('n_jobs',\n",
       "                          this.parentElement.nextElementSibling)\"\n",
       "            ></i></td>\n",
       "            <td class=\"param\">n_jobs&nbsp;</td>\n",
       "            <td class=\"value\">None</td>\n",
       "        </tr>\n",
       "    \n",
       "                  </tbody>\n",
       "                </table>\n",
       "            </details>\n",
       "        </div>\n",
       "    </div></div></div></div></div><script>function copyToClipboard(text, element) {\n",
       "    // Get the parameter prefix from the closest toggleable content\n",
       "    const toggleableContent = element.closest('.sk-toggleable__content');\n",
       "    const paramPrefix = toggleableContent ? toggleableContent.dataset.paramPrefix : '';\n",
       "    const fullParamName = paramPrefix ? `${paramPrefix}${text}` : text;\n",
       "\n",
       "    const originalStyle = element.style;\n",
       "    const computedStyle = window.getComputedStyle(element);\n",
       "    const originalWidth = computedStyle.width;\n",
       "    const originalHTML = element.innerHTML.replace('Copied!', '');\n",
       "\n",
       "    navigator.clipboard.writeText(fullParamName)\n",
       "        .then(() => {\n",
       "            element.style.width = originalWidth;\n",
       "            element.style.color = 'green';\n",
       "            element.innerHTML = \"Copied!\";\n",
       "\n",
       "            setTimeout(() => {\n",
       "                element.innerHTML = originalHTML;\n",
       "                element.style = originalStyle;\n",
       "            }, 2000);\n",
       "        })\n",
       "        .catch(err => {\n",
       "            console.error('Failed to copy:', err);\n",
       "            element.style.color = 'red';\n",
       "            element.innerHTML = \"Failed!\";\n",
       "            setTimeout(() => {\n",
       "                element.innerHTML = originalHTML;\n",
       "                element.style = originalStyle;\n",
       "            }, 2000);\n",
       "        });\n",
       "    return false;\n",
       "}\n",
       "\n",
       "document.querySelectorAll('.fa-regular.fa-copy').forEach(function(element) {\n",
       "    const toggleableContent = element.closest('.sk-toggleable__content');\n",
       "    const paramPrefix = toggleableContent ? toggleableContent.dataset.paramPrefix : '';\n",
       "    const paramName = element.parentElement.nextElementSibling.textContent.trim();\n",
       "    const fullParamName = paramPrefix ? `${paramPrefix}${paramName}` : paramName;\n",
       "\n",
       "    element.setAttribute('title', fullParamName);\n",
       "});\n",
       "</script></body>"
      ],
      "text/plain": [
       "NearestNeighbors(algorithm='brute', metric='cosine', n_neighbors=20)"
      ]
     },
     "execution_count": 60,
     "metadata": {},
     "output_type": "execute_result"
    }
   ],
   "source": [
    "KNN_algorithm = NearestNeighbors(n_neighbors = 20, metric = \"cosine\", algorithm = \"brute\")\n",
    "KNN_algorithm.fit(users_request_movies_matrix)\n"
   ]
  },
  {
   "cell_type": "markdown",
   "id": "2e74cbf1",
   "metadata": {},
   "source": [
    "I Jupyter-miljön kan du köra om cellen för att visa HTML-representationen, eller välja att lita på notebooken. På GitHub går det inte att rendera HTML-representationen direkt, men sidan kan öppnas via nbviewer.org\n",
    " för korrekt visning.\n",
    "\n",
    "Funktionen låter användaren söka efter en specifik filmtitel för att få rekommendationer på liknande filmer. Utifrån den titel som användaren anger genereras fem rekommendationer baserade på likhet.\n",
    "\n",
    "Funktionen använder information från:\n",
    "-DataFrame med rekommenderbara filmer\n",
    "-Filmtitlar\n",
    "-KNN-modellen\n",
    "-Sparse-matrisen\n",
    "\n",
    "Med hjälp av fuzzy matching (via fuzzywuzzy) identifieras de sex närmaste matchningarna, där den extra matchningen inkluderar den film som användaren själv sökt efter. Därefter returneras de fem mest liknande filmerna som rekommendationer."
   ]
  },
  {
   "cell_type": "code",
   "execution_count": 63,
   "id": "cc723628",
   "metadata": {},
   "outputs": [],
   "source": [
    "\n",
    "def movies_recommendations():\n",
    "    try: \n",
    "        user_input = input(\"Write the exact title of the movie: \")\n",
    "        match = process.extractOne(user_input, recommended_movies[\"title\"], score_cutoff=90)\n",
    "        index = match[2]\n",
    "        \n",
    "        _ , indices = KNN_algorithm.kneighbors(users_request_movies_matrix[index], n_neighbors = 6)\n",
    "\n",
    "        print(f\"Top 5 recommendations: {recommended_movies['title'].iloc[indices[0][0]]}\")\n",
    "        \n",
    "        for neighbor_index in indices[0][1:]:\n",
    "            print(recommended_movies[\"title\"].iloc[neighbor_index])\n",
    "    \n",
    "    except (TypeError, IndexError):\n",
    "                \n",
    "                print(f\"Sorry! Could not find movie title '{user_input}' in the database.\")\n",
    "                return\n"
   ]
  },
  {
   "cell_type": "code",
   "execution_count": null,
   "id": "29f46f0b",
   "metadata": {},
   "outputs": [
    {
     "name": "stdout",
     "output_type": "stream",
     "text": [
      "Sorry! Could not find movie title 'The matrix' in the database.\n"
     ]
    }
   ],
   "source": [
    "\n",
    "vies_recommendations()"
   ]
  },
  {
   "cell_type": "markdown",
   "id": "c9f1fe82",
   "metadata": {},
   "source": [
    "Rekommendationssystemet använder KNN för att hitta filmer som liknar eller matchar med varandra, utifrån betygsättningar som filmerna har fått. Byggs på metoden som kallas collaborative filtering. Metoden utgår ifrån beroende på om flera användare har satt liknande betyg på liknande filmer, då är det med högst sannolikhet att de filmerna är ganska liknande intressemässigt. Därför kan filmer med liknande innehåll rekommenderas, utifrån vad andra med liknande intresse av film har betygsatt.\n",
    "\n",
    "Algoritmen som denna fungerar jättebra för användare som har satt flera betyg, eller gällande filmer som har fått väldigt många betyg. Dock så fungerar det sämre för nya användare eller filmer med mycket mindre data.\n",
    "\n",
    "Content-based filtering är en annan metod, som istället fokuserar på filmens egenskaper såsom genre, skådespelare och teman. Systemet i Content-based filtering lär sig just den typen av filmer som användaren gillar, baserad på tidigare val av filmer. Eftersom systemet utgår ifrån innehållet, kan även nya användare få bra liknande rekommendationer, särskilt om systemet har tillgång till en viss information om användaren, som t.ex. ålder, kön, geografisk område, språk osv."
   ]
  }
 ],
 "metadata": {
  "kernelspec": {
   "display_name": "Python 3",
   "language": "python",
   "name": "python3"
  },
  "language_info": {
   "codemirror_mode": {
    "name": "ipython",
    "version": 3
   },
   "file_extension": ".py",
   "mimetype": "text/x-python",
   "name": "python",
   "nbconvert_exporter": "python",
   "pygments_lexer": "ipython3",
   "version": "3.12.6"
  }
 },
 "nbformat": 4,
 "nbformat_minor": 5
}
